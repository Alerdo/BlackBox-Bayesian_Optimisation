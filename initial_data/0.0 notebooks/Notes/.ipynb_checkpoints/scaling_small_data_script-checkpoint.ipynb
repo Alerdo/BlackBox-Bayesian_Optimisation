{
 "cells": [
  {
   "cell_type": "code",
   "execution_count": null,
   "id": "409c3047",
   "metadata": {},
   "outputs": [],
   "source": [
    "import numpy as np\n",
    "\n",
    "def determine_scale(y, percentile=99, target_asinh_value=5.0):\n",
    "    \"\"\"\n",
    "    Determines a scale factor so that the 'percentile' of |y|\n",
    "    ends up around arcsinh = ±target_asinh_value.\n",
    "    \n",
    "    - percentile: which percentile of |y| to consider (e.g., 95, 99).\n",
    "    - target_asinh_value: arcsinh value we want that percentile mapped to.\n",
    "      arcsinh(large_number) grows ~ log, so pick 5~10 for moderate spread.\n",
    "\n",
    "    Returns: float (scale factor)\n",
    "    \"\"\"\n",
    "    # Exclude zero or extremely tiny data from 'abs_y' just in case\n",
    "    abs_y = np.abs(y[y != 0])  \n",
    "    if len(abs_y) == 0:\n",
    "        # all zeros? fallback\n",
    "        return 1.0\n",
    "    \n",
    "    # get the chosen percentile of the absolute values\n",
    "    val = np.percentile(abs_y, percentile)\n",
    "    if val == 0:\n",
    "        # if even the percentile is 0, fallback\n",
    "        return 1.0\n",
    "    \n",
    "    # We want arcsinh(scale * val) ~ target_asinh_value\n",
    "    # => scale * val ~ sinh(target_asinh_value)\n",
    "    # => scale = sinh(target_asinh_value) / val\n",
    "    desired = np.sinh(target_asinh_value)\n",
    "    scale = desired / val\n",
    "    return scale\n",
    "\n",
    "def forward_transform(y, scale):\n",
    "    \"\"\"\n",
    "    Forward transform for GP:\n",
    "      arcsinh(scale * y)\n",
    "    \"\"\"\n",
    "    return np.arcsinh(scale * y)\n",
    "\n",
    "def inverse_transform(y_trans, scale):\n",
    "    \"\"\"\n",
    "    Inverse transform:\n",
    "      sinh(y_trans) / scale\n",
    "    \"\"\"\n",
    "    return np.sinh(y_trans) / scale\n",
    "\n",
    "scale_factor = determine_scale(f1_out, percentile=67, target_asinh_value=10)\n",
    "print(\"Chosen scale factor =\", scale_factor)\n",
    "\n",
    "# 2) Transform the data\n",
    "f1_out_transformed = forward_transform(f1_out, scale=scale_factor)\n",
    "f1_out"
   ]
  },
  {
   "cell_type": "code",
   "execution_count": null,
   "id": "75c4b19b",
   "metadata": {},
   "outputs": [],
   "source": []
  },
  {
   "cell_type": "code",
   "execution_count": null,
   "id": "c58d8b6c",
   "metadata": {},
   "outputs": [],
   "source": []
  },
  {
   "cell_type": "code",
   "execution_count": null,
   "id": "8d875528",
   "metadata": {},
   "outputs": [],
   "source": []
  },
  {
   "cell_type": "code",
   "execution_count": null,
   "id": "46d9290e",
   "metadata": {},
   "outputs": [],
   "source": []
  },
  {
   "cell_type": "code",
   "execution_count": null,
   "id": "813194e7",
   "metadata": {},
   "outputs": [],
   "source": []
  },
  {
   "cell_type": "code",
   "execution_count": 49,
   "id": "ee71016c",
   "metadata": {},
   "outputs": [
    {
     "data": {
      "text/plain": [
       "-0.00360606264"
      ]
     },
     "execution_count": 49,
     "metadata": {},
     "output_type": "execute_result"
    }
   ],
   "source": [
    "  ( -3.60606264e-003  +  2.15924904e-054) #DISTNACE FOR THE FIRST ONE  "
   ]
  },
  {
   "cell_type": "code",
   "execution_count": 36,
   "id": "19f3f282",
   "metadata": {},
   "outputs": [
    {
     "data": {
      "text/plain": [
       "-2.15924904e-54"
      ]
     },
     "execution_count": 36,
     "metadata": {},
     "output_type": "execute_result"
    }
   ],
   "source": [
    "  ( - 2.15924904e-054 - 2.08909327e-091) "
   ]
  },
  {
   "cell_type": "code",
   "execution_count": null,
   "id": "ddec2d58",
   "metadata": {},
   "outputs": [],
   "source": []
  },
  {
   "cell_type": "code",
   "execution_count": null,
   "id": "3b57e7c6",
   "metadata": {},
   "outputs": [],
   "source": [
    "0 + -0.00360606264 # SECOND NUMBER "
   ]
  },
  {
   "cell_type": "code",
   "execution_count": null,
   "id": "db518abb",
   "metadata": {},
   "outputs": [],
   "source": [
    "(0 + -0.00360606264 )-2.15924904e-54"
   ]
  },
  {
   "cell_type": "code",
   "execution_count": 37,
   "id": "8c48f88c",
   "metadata": {},
   "outputs": [
    {
     "ename": "ValueError",
     "evalue": "operands could not be broadcast together with shapes (11,1) (10,1) ",
     "output_type": "error",
     "traceback": [
      "\u001b[1;31m---------------------------------------------------------------------------\u001b[0m",
      "\u001b[1;31mValueError\u001b[0m                                Traceback (most recent call last)",
      "Cell \u001b[1;32mIn[37], line 28\u001b[0m\n\u001b[0;32m     24\u001b[0m recovered_abs_data \u001b[38;5;241m=\u001b[39m np\u001b[38;5;241m.\u001b[39marray(\n\u001b[0;32m     25\u001b[0m     [[power(\u001b[38;5;241m10\u001b[39m, \u001b[38;5;28mfloat\u001b[39m(x)) \u001b[38;5;241m-\u001b[39m \u001b[38;5;241m1e-100\u001b[39m] \u001b[38;5;28;01mfor\u001b[39;00m x \u001b[38;5;129;01min\u001b[39;00m yeo_transformed_data]\n\u001b[0;32m     26\u001b[0m )\n\u001b[0;32m     27\u001b[0m \u001b[38;5;66;03m# 3. Restore the signs to the recovered data\u001b[39;00m\n\u001b[1;32m---> 28\u001b[0m ORIGINAL_DATA_YEO_JOHNSON \u001b[38;5;241m=\u001b[39m recovered_abs_data \u001b[38;5;241m*\u001b[39m signs\n\u001b[0;32m     29\u001b[0m ORIGINAL_DATA_YEO_JOHNSON\n",
      "\u001b[1;31mValueError\u001b[0m: operands could not be broadcast together with shapes (11,1) (10,1) "
     ]
    }
   ],
   "source": [
    "from sklearn.preprocessing import PowerTransformer, MinMaxScaler\n",
    "import numpy as np\n",
    "\n",
    "# Input: scaled data\n",
    "scaled_log_data = np.array([\n",
    "    [0.618109],\n",
    "    [0.21650371],\n",
    "    [0.5536672],\n",
    "    [0.87012798],\n",
    "    [0.0],\n",
    "    [1.0],\n",
    "    [0.47494582],\n",
    "    [0.09553347],\n",
    "    [0.61916578],\n",
    "    [0.20046852],\n",
    "    [0.54116528]\n",
    "])\n",
    "# Step 1: Fit the Yeo-Johnson transformer\n",
    "yeo_transformer = PowerTransformer(method='yeo-johnson')\n",
    "yeo_transformed_data = yeo_transformer.fit_transform(scaled_log_data)\n",
    "# Step 2: Reverse the Yeo-Johnson transformation RENOVE THIS BECASE THAT IS THE WHOLE POINT\n",
    "###reversed_yeo_data = yeo_transformer.inverse_transform(yeo_transformed_data)\n",
    "# 2. Reverse log transformation with mpmath applied element-wise\n",
    "recovered_abs_data = np.array(\n",
    "    [[power(10, float(x)) - 1e-100] for x in yeo_transformed_data]\n",
    ")\n",
    "# 3. Restore the signs to the recovered data\n",
    "ORIGINAL_DATA_YEO_JOHNSON = recovered_abs_data * signs\n",
    "ORIGINAL_DATA_YEO_JOHNSON"
   ]
  },
  {
   "cell_type": "code",
   "execution_count": 33,
   "id": "3c536ec1",
   "metadata": {},
   "outputs": [
    {
     "name": "stdout",
     "output_type": "stream",
     "text": [
      "Original Data:\n",
      " [[ 1.32267704e-079]\n",
      " [ 1.03307824e-046]\n",
      " [ 7.71087511e-016]\n",
      " [ 3.34177101e-124]\n",
      " [-3.60606264e-003]\n",
      " [-2.15924904e-054]\n",
      " [-2.08909327e-091]\n",
      " [ 2.53500115e-040]\n",
      " [ 3.60677119e-081]\n",
      " [ 6.22985647e-048]]\n",
      "Info Data:\n",
      " [-2.66666667] 1.170331898724395e-06\n",
      "\n",
      "Scaled Log-Transformed Data:\n",
      " [[0.21650371]\n",
      " [0.5536672 ]\n",
      " [0.87012798]\n",
      " [0.        ]\n",
      " [1.        ]\n",
      " [0.47494582]\n",
      " [0.09553347]\n",
      " [0.61916578]\n",
      " [0.20046852]\n",
      " [0.54116528]]\n",
      "Info:\n",
      " [0.206196] 0.09717255344978551\n",
      "Recovered Original Data:\n",
      " [[mpf('1.32269581e-79')]\n",
      " [mpf('1.03306971e-46')]\n",
      " [mpf('7.71088185e-16')]\n",
      " [mpf('5.84303487e-108')]\n",
      " [mpf('-0.00360606099')]\n",
      " [mpf('-2.15925935e-54')]\n",
      " [mpf('-2.08911117e-91')]\n",
      " [mpf('2.53499096e-40')]\n",
      " [mpf('3.60673023e-81')]\n",
      " [mpf('6.22987522e-48')]]\n"
     ]
    },
    {
     "data": {
      "text/plain": [
       "array([[ -78.87854004],\n",
       "       [ -45.98587036],\n",
       "       [ -15.11289597],\n",
       "       [-100.        ],\n",
       "       [  -2.44296694],\n",
       "       [ -53.66569519],\n",
       "       [ -90.68003845],\n",
       "       [ -39.59602356],\n",
       "       [ -80.44288635],\n",
       "       [ -47.20552063]])"
      ]
     },
     "execution_count": 33,
     "metadata": {},
     "output_type": "execute_result"
    }
   ],
   "source": [
    "import numpy as np\n",
    "from sklearn.preprocessing import MinMaxScaler\n",
    "from mpmath import mp, log10, power\n",
    "from scipy.stats import skew\n",
    "\n",
    "\n",
    "\n",
    "# Set precision for mpmath\n",
    "mp.dps = 6  # Set decimal precision\n",
    "\n",
    "# Input array\n",
    "data = np.array([\n",
    "    [1.32267704e-79],\n",
    "    [1.03307824e-46],\n",
    "    [7.71087511e-16],\n",
    "    [3.34177101e-124],\n",
    "     [-3.60606264e-3], \n",
    "    [-2.15924904e-54],\n",
    "    [-2.08909327e-91],\n",
    "    [2.53500115e-40],\n",
    "    [3.60677119e-81],\n",
    "    [6.22985647e-48]\n",
    "])\n",
    "\n",
    "# Preserve the signs of the original data\n",
    "signs = np.sign(data)\n",
    "\n",
    "# Apply absolute to the data for log transformation\n",
    "abs_data = np.abs(data)\n",
    "\n",
    "# Log transformation with mpmath applied element-wise\n",
    "log_transformed_data = np.array(\n",
    "    [[log10(float(x) + 1e-100)] for x in abs_data]\n",
    ")\n",
    "\n",
    "# Convert to float for MinMaxScaler\n",
    "log_transformed_data_float = np.array(log_transformed_data, dtype=np.float64)\n",
    "\n",
    "# Scale the log-transformed data\n",
    "scaler = MinMaxScaler()\n",
    "scaled_log_data = scaler.fit_transform(log_transformed_data_float)\n",
    "\n",
    "# Reverse procedure\n",
    "# 1. Reverse the scaling\n",
    "reversed_scaled_data = scaler.inverse_transform(scaled_log_data)\n",
    "\n",
    "# 2. Reverse log transformation with mpmath applied element-wise\n",
    "recovered_abs_data = np.array(\n",
    "    [[power(10, float(x)) - 1e-100] for x in reversed_scaled_data]\n",
    ")\n",
    "\n",
    "# 3. Restore the signs to the recovered data\n",
    "original_data_recovered = recovered_abs_data * signs\n",
    "\n",
    "# Print results\n",
    "print(\"Original Data:\\n\", data)\n",
    "print(\"Info Data:\\n\", skew(data), np.var(data))\n",
    "print(\"\")\n",
    "print(\"Scaled Log-Transformed Data:\\n\", scaled_log_data)\n",
    "print(\"Info:\\n\", skew(scaled_log_data), np.var(scaled_log_data))\n",
    "\n",
    "\n",
    "\n",
    "\n",
    "Result\n",
    "array([-3.60606264e-003, -2.15924904e-054, -2.08909327e-091,\n",
    "        3.34177101e-124,  3.60677119e-081,  1.32267704e-079,\n",
    "        6.22985647e-048,  1.03307824e-046,  2.53500115e-040,\n",
    "        7.71087511e-016])"
   ]
  },
  {
   "cell_type": "code",
   "execution_count": 8,
   "id": "93622f72",
   "metadata": {},
   "outputs": [
    {
     "data": {
      "text/plain": [
       "array([ 6.43304664e-80,  1.03307824e-46,  7.71087511e-16, -6.79372376e-80,\n",
       "       -3.60606264e-03, -2.15924904e-54, -6.79372376e-80,  2.53500115e-40,\n",
       "       -6.43304664e-80,  6.22985647e-48])"
      ]
     },
     "execution_count": 8,
     "metadata": {},
     "output_type": "execute_result"
    }
   ],
   "source": []
  },
  {
   "cell_type": "code",
   "execution_count": 14,
   "id": "5ecf4258",
   "metadata": {},
   "outputs": [
    {
     "data": {
      "text/plain": [
       "array([[ 1.32267704e-079],\n",
       "       [ 1.03307824e-046],\n",
       "       [ 7.71087511e-016],\n",
       "       [ 3.34177101e-124],\n",
       "       [-2.15924904e-054],\n",
       "       [-2.08909327e-091],\n",
       "       [ 2.53500115e-040],\n",
       "       [ 3.60677119e-081],\n",
       "       [ 6.22985647e-048]])"
      ]
     },
     "execution_count": 14,
     "metadata": {},
     "output_type": "execute_result"
    }
   ],
   "source": [
    "# Input array\n",
    "data = np.array([\n",
    "    [1.32267704e-79],\n",
    "    [1.03307824e-46],\n",
    "    [7.71087511e-16],\n",
    "    [3.34177101e-124],\n",
    "    [-2.15924904e-54],\n",
    "    [-2.08909327e-91],\n",
    "    [2.53500115e-40],\n",
    "    [3.60677119e-81],\n",
    "    [6.22985647e-48]\n",
    "])\n",
    "data\n",
    "data."
   ]
  },
  {
   "cell_type": "code",
   "execution_count": 21,
   "id": "9d78392c",
   "metadata": {},
   "outputs": [
    {
     "data": {
      "text/plain": [
       "array([ 0.00000000e+00,  1.00000000e+00,  7.46397979e+30, -1.28032611e-33,\n",
       "       -2.09011182e-08, -1.28032611e-33,  2.45383268e+06, -1.24541325e-33,\n",
       "        6.03038205e-02])"
      ]
     },
     "execution_count": 21,
     "metadata": {},
     "output_type": "execute_result"
    }
   ],
   "source": [
    "\n",
    "lambda_factor = 1e50  # Amplify small values\n",
    "amplified_data = data * lambda_factor\n",
    "amplified_data\n",
    "\n",
    "from sklearn.preprocessing import RobustScaler\n",
    "\n",
    "scaler = RobustScaler()\n",
    "scaled_data = scaler.fit_transform(amplified_data.reshape(-1, 1)).flatten()\n",
    "scaled_data"
   ]
  },
  {
   "cell_type": "code",
   "execution_count": 22,
   "id": "930ad1a8",
   "metadata": {},
   "outputs": [
    {
     "name": "stdout",
     "output_type": "stream",
     "text": [
      "Logarithm with high precision: -284.31405062228697403645741280559599135039773529365\n"
     ]
    }
   ],
   "source": [
    "from mpmath import mp\n",
    "\n",
    "mp.dps = 50  # Set decimal precision to 50 digits\n",
    "very_small_number = 3.34177101e-124\n",
    "log_result = mp.log(very_small_number)\n",
    "print(\"Logarithm with high precision:\", log_result)\n"
   ]
  },
  {
   "cell_type": "code",
   "execution_count": 23,
   "id": "e4ff7445",
   "metadata": {},
   "outputs": [
    {
     "name": "stdout",
     "output_type": "stream",
     "text": [
      "Scaled data (RobustScaler): [-1.e-124 -3.e-123  0.e+000  2.e-124  5.e-123]\n"
     ]
    }
   ],
   "source": [
    "from sklearn.preprocessing import RobustScaler\n",
    "import numpy as np\n",
    "\n",
    "# Example data\n",
    "data = np.array([-1e-124, -3e-123, 0, 2e-124, 5e-123])\n",
    "\n",
    "# Convert to mpmath array\n",
    "from mpmath import mp\n",
    "mp.dps = 50\n",
    "data_mp = [mp.mpf(x) for x in data]\n",
    "\n",
    "# RobustScaler operates on numpy, so convert to numpy for scaling\n",
    "scaler = RobustScaler()\n",
    "scaled_data = scaler.fit_transform(np.array(data_mp, dtype=float).reshape(-1, 1)).flatten()\n",
    "\n",
    "print(\"Scaled data (RobustScaler):\", scaled_data)\n"
   ]
  },
  {
   "cell_type": "code",
   "execution_count": 28,
   "id": "815dda58",
   "metadata": {},
   "outputs": [
    {
     "name": "stdout",
     "output_type": "stream",
     "text": [
      "Variance Before: 6.6336e-246\n",
      "Variance After: 64177.473385413236\n",
      "Skewness Before: nan\n",
      "Skewness After: 0.0005321609579595606\n"
     ]
    }
   ],
   "source": [
    "from scipy.stats import skew\n",
    "variance_before = np.var(data)\n",
    "skewness_before = skew(data, nan_policy='omit')\n",
    "\n",
    "\n",
    "import numpy as np\n",
    "from mpmath import mp\n",
    "\n",
    "mp.dps = 50  # Set precision\n",
    "epsilon = mp.mpf(1e-124)  # Small constant for stability\n",
    "data_mp = [mp.mpf(x) for x in data]\n",
    "\n",
    "log_transformed = [\n",
    "    mp.sign(x) * mp.log(mp.fabs(x) + epsilon) if x != 0 else 0 for x in data_mp\n",
    "]\n",
    "log_transformed = np.array([float(x) for x in log_transformed])\n",
    "\n",
    "\n",
    "variance_after = np.var(log_transformed)\n",
    "skewness_after = skew(log_transformed, nan_policy='omit')\n",
    "print(\"Variance Before:\", variance_before)\n",
    "print(\"Variance After:\", variance_after)\n",
    "print(\"Skewness Before:\", skewness_before)\n",
    "print(\"Skewness After:\", skewness_after)\n"
   ]
  },
  {
   "cell_type": "code",
   "execution_count": null,
   "id": "c4117385",
   "metadata": {},
   "outputs": [],
   "source": [
    "\n",
    "\n"
   ]
  },
  {
   "cell_type": "code",
   "execution_count": null,
   "id": "b78d9244",
   "metadata": {},
   "outputs": [],
   "source": []
  },
  {
   "cell_type": "code",
   "execution_count": null,
   "id": "8914b9ac",
   "metadata": {},
   "outputs": [],
   "source": []
  },
  {
   "cell_type": "code",
   "execution_count": null,
   "id": "764ec87a",
   "metadata": {},
   "outputs": [],
   "source": []
  },
  {
   "cell_type": "code",
   "execution_count": null,
   "id": "de57bd66",
   "metadata": {},
   "outputs": [],
   "source": []
  },
  {
   "cell_type": "code",
   "execution_count": 32,
   "id": "7e6532ec",
   "metadata": {},
   "outputs": [
    {
     "name": "stdout",
     "output_type": "stream",
     "text": [
      "Scaled Data (TorchMinMaxScaler):\n",
      " tensor([[1.0000],\n",
      "        [1.0000],\n",
      "        [1.0000],\n",
      "        [1.0000],\n",
      "        [0.0000],\n",
      "        [1.0000],\n",
      "        [1.0000],\n",
      "        [1.0000],\n",
      "        [1.0000],\n",
      "        [1.0000]])\n"
     ]
    }
   ],
   "source": []
  },
  {
   "cell_type": "code",
   "execution_count": null,
   "id": "e451b117",
   "metadata": {},
   "outputs": [],
   "source": []
  }
 ],
 "metadata": {
  "kernelspec": {
   "display_name": "Python 3 (ipykernel)",
   "language": "python",
   "name": "python3"
  },
  "language_info": {
   "codemirror_mode": {
    "name": "ipython",
    "version": 3
   },
   "file_extension": ".py",
   "mimetype": "text/x-python",
   "name": "python",
   "nbconvert_exporter": "python",
   "pygments_lexer": "ipython3",
   "version": "3.11.5"
  }
 },
 "nbformat": 4,
 "nbformat_minor": 5
}
